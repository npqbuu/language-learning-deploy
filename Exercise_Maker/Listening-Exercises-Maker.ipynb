{
 "cells": [
  {
   "cell_type": "code",
   "execution_count": 1,
   "metadata": {},
   "outputs": [],
   "source": [
    "import urllib\n",
    "from bs4 import BeautifulSoup\n",
    "import re\n",
    "import requests\n",
    "import random"
   ]
  },
  {
   "cell_type": "code",
   "execution_count": 2,
   "metadata": {},
   "outputs": [],
   "source": [
    "def get_audio_file(word):\n",
    "    \"\"\"\n",
    "    Get audio mp3 file from Shtooka\n",
    "    \"\"\"\n",
    "    url = 'http://shtooka.net/search.php?str=' + word.lower() + '&lang=eng'\n",
    "    page = urllib.request.urlopen(url)\n",
    "    soup = BeautifulSoup(page, features='lxml')\n",
    "    link = soup.find('a', href=re.compile('mp3/En-us-'))['href']\n",
    "    try:\n",
    "        urllib.request.urlopen(link)\n",
    "        return link\n",
    "    except:\n",
    "        return None"
   ]
  },
  {
   "cell_type": "code",
   "execution_count": null,
   "metadata": {},
   "outputs": [],
   "source": []
  }
 ],
 "metadata": {
  "kernelspec": {
   "display_name": "Python 3",
   "language": "python",
   "name": "python3"
  },
  "language_info": {
   "codemirror_mode": {
    "name": "ipython",
    "version": 3
   },
   "file_extension": ".py",
   "mimetype": "text/x-python",
   "name": "python",
   "nbconvert_exporter": "python",
   "pygments_lexer": "ipython3",
   "version": "3.7.6"
  }
 },
 "nbformat": 4,
 "nbformat_minor": 4
}
