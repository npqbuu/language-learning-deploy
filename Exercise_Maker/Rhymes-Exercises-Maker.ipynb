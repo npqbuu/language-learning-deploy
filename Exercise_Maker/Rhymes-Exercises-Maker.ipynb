{
 "cells": [
  {
   "cell_type": "code",
   "execution_count": 2,
   "metadata": {},
   "outputs": [],
   "source": [
    "import datamuse\n",
    "import requests\n",
    "import numpy as np\n",
    "import random\n",
    "import string\n",
    "import pandas as pd"
   ]
  },
  {
   "cell_type": "code",
   "execution_count": 5,
   "metadata": {},
   "outputs": [],
   "source": [
    "api = datamuse.Datamuse()\n",
    "headers = {\n",
    "    'x-rapidapi-host': \"wordsapiv1.p.rapidapi.com\",\n",
    "    'x-rapidapi-key': \"f9e88b40a3mshe89fe995823038bp1f4ab2jsn4f97b67d0ad0\"\n",
    "    }"
   ]
  },
  {
   "cell_type": "code",
   "execution_count": 6,
   "metadata": {},
   "outputs": [
    {
     "name": "stdout",
     "output_type": "stream",
     "text": [
      "997\n"
     ]
    }
   ],
   "source": [
    "with open('words.txt', 'r') as f:\n",
    "    lines = f.read().split(',')\n",
    "list_lines = []\n",
    "for item in lines:\n",
    "    list_lines.append(item.translate({ord(c): None for c in string.whitespace}))\n",
    "print(len(list_lines))"
   ]
  },
  {
   "cell_type": "code",
   "execution_count": 57,
   "metadata": {},
   "outputs": [],
   "source": [
    "list_random_words = list_lines"
   ]
  },
  {
   "cell_type": "code",
   "execution_count": 58,
   "metadata": {},
   "outputs": [
    {
     "name": "stdout",
     "output_type": "stream",
     "text": [
      "397\n",
      "397\n"
     ]
    }
   ],
   "source": [
    "print(len(list_random_words))\n",
    "print(len(list_lines))"
   ]
  },
  {
   "cell_type": "code",
   "execution_count": 60,
   "metadata": {},
   "outputs": [],
   "source": [
    "# Get 3 words that have the same rhyme and 1 word that has consonant match using Datamuse API\n",
    "# http://www.datamuse.com/api/\n",
    "for word in list_random_words:\n",
    "    list_wrong = api.words(rel_cns=word, max=1)\n",
    "    if len(list_wrong) < 1:\n",
    "        continue\n",
    "    list_right = api.words(rel_rhy=word, max=3)\n",
    "    if len(list_right) < 3:\n",
    "        continue\n",
    "    answer = list_wrong[0]['word']\n",
    "    list_words = [answer]\n",
    "    for item in list_right:\n",
    "        list_words.append(item['word'])\n",
    "    random.shuffle(list_words)\n",
    "    dict_questions = {\n",
    "        'choice0' : list_words[0],\n",
    "        'choice1' : list_words[1],\n",
    "        'choice2' : list_words[2],\n",
    "        'choice3' : list_words[3],\n",
    "        'answer'  : list_words.index(answer),\n",
    "    }\n",
    "    # Get word's frequency to compute the difficulty using Words API\n",
    "    # https://www.wordsapi.com/\n",
    "    list_diff = []\n",
    "    for item in list_words:\n",
    "        url_frequency = f\"https://wordsapiv1.p.rapidapi.com/words/{item}/frequency\"\n",
    "        response = requests.request(\"GET\", url_frequency, headers=headers)\n",
    "        data = response.json()\n",
    "        try:\n",
    "            f = data['frequency']['zipf']\n",
    "            list_diff.append(7 - f)\n",
    "        except:\n",
    "            list_diff.append(7)\n",
    "    diff_avg = sum(list_diff) / (len(list_diff) - 1)\n",
    "    dict_questions.update({'diff' : diff_avg})\n",
    "    list_questions.append(dict_questions)"
   ]
  },
  {
   "cell_type": "code",
   "execution_count": 64,
   "metadata": {},
   "outputs": [
    {
     "data": {
      "text/plain": [
       "893"
      ]
     },
     "execution_count": 64,
     "metadata": {},
     "output_type": "execute_result"
    }
   ],
   "source": [
    "len(list_questions)"
   ]
  },
  {
   "cell_type": "code",
   "execution_count": 62,
   "metadata": {},
   "outputs": [],
   "source": [
    "df = pd.DataFrame(list_questions)"
   ]
  },
  {
   "cell_type": "code",
   "execution_count": 63,
   "metadata": {},
   "outputs": [
    {
     "data": {
      "text/html": [
       "<div>\n",
       "<style scoped>\n",
       "    .dataframe tbody tr th:only-of-type {\n",
       "        vertical-align: middle;\n",
       "    }\n",
       "\n",
       "    .dataframe tbody tr th {\n",
       "        vertical-align: top;\n",
       "    }\n",
       "\n",
       "    .dataframe thead th {\n",
       "        text-align: right;\n",
       "    }\n",
       "</style>\n",
       "<table border=\"1\" class=\"dataframe\">\n",
       "  <thead>\n",
       "    <tr style=\"text-align: right;\">\n",
       "      <th></th>\n",
       "      <th>choice0</th>\n",
       "      <th>choice1</th>\n",
       "      <th>choice2</th>\n",
       "      <th>choice3</th>\n",
       "      <th>answer</th>\n",
       "      <th>diff</th>\n",
       "    </tr>\n",
       "  </thead>\n",
       "  <tbody>\n",
       "    <tr>\n",
       "      <td>0</td>\n",
       "      <td>abate</td>\n",
       "      <td>route</td>\n",
       "      <td>out</td>\n",
       "      <td>doubt</td>\n",
       "      <td>0</td>\n",
       "      <td>3.350000</td>\n",
       "    </tr>\n",
       "    <tr>\n",
       "      <td>1</td>\n",
       "      <td>sauce</td>\n",
       "      <td>loss</td>\n",
       "      <td>cross</td>\n",
       "      <td>accresce</td>\n",
       "      <td>3</td>\n",
       "      <td>4.836667</td>\n",
       "    </tr>\n",
       "    <tr>\n",
       "      <td>2</td>\n",
       "      <td>contract</td>\n",
       "      <td>impact</td>\n",
       "      <td>abstract</td>\n",
       "      <td>irked</td>\n",
       "      <td>3</td>\n",
       "      <td>5.280000</td>\n",
       "    </tr>\n",
       "    <tr>\n",
       "      <td>3</td>\n",
       "      <td>octave</td>\n",
       "      <td>attractive</td>\n",
       "      <td>proactive</td>\n",
       "      <td>interactive</td>\n",
       "      <td>0</td>\n",
       "      <td>5.083333</td>\n",
       "    </tr>\n",
       "    <tr>\n",
       "      <td>4</td>\n",
       "      <td>productivity</td>\n",
       "      <td>creativity</td>\n",
       "      <td>activator</td>\n",
       "      <td>proclivity</td>\n",
       "      <td>2</td>\n",
       "      <td>5.846667</td>\n",
       "    </tr>\n",
       "  </tbody>\n",
       "</table>\n",
       "</div>"
      ],
      "text/plain": [
       "        choice0     choice1    choice2      choice3  answer      diff\n",
       "0         abate       route        out        doubt       0  3.350000\n",
       "1         sauce        loss      cross     accresce       3  4.836667\n",
       "2      contract      impact   abstract        irked       3  5.280000\n",
       "3        octave  attractive  proactive  interactive       0  5.083333\n",
       "4  productivity  creativity  activator   proclivity       2  5.846667"
      ]
     },
     "execution_count": 63,
     "metadata": {},
     "output_type": "execute_result"
    }
   ],
   "source": [
    "df.to_csv('./resource/rhymes_questionbank.csv')\n",
    "df.head()"
   ]
  },
  {
   "cell_type": "code",
   "execution_count": 5,
   "metadata": {},
   "outputs": [],
   "source": [
    "df = pd.read_csv('./resource/rhymes_questionbank.csv')"
   ]
  },
  {
   "cell_type": "code",
   "execution_count": 8,
   "metadata": {},
   "outputs": [
    {
     "data": {
      "text/html": [
       "<div>\n",
       "<style scoped>\n",
       "    .dataframe tbody tr th:only-of-type {\n",
       "        vertical-align: middle;\n",
       "    }\n",
       "\n",
       "    .dataframe tbody tr th {\n",
       "        vertical-align: top;\n",
       "    }\n",
       "\n",
       "    .dataframe thead th {\n",
       "        text-align: right;\n",
       "    }\n",
       "</style>\n",
       "<table border=\"1\" class=\"dataframe\">\n",
       "  <thead>\n",
       "    <tr style=\"text-align: right;\">\n",
       "      <th></th>\n",
       "      <th>Unnamed: 0</th>\n",
       "      <th>choice0</th>\n",
       "      <th>choice1</th>\n",
       "      <th>choice2</th>\n",
       "      <th>choice3</th>\n",
       "      <th>answer</th>\n",
       "      <th>diff</th>\n",
       "    </tr>\n",
       "  </thead>\n",
       "  <tbody>\n",
       "    <tr>\n",
       "      <td>0</td>\n",
       "      <td>0</td>\n",
       "      <td>abate</td>\n",
       "      <td>route</td>\n",
       "      <td>out</td>\n",
       "      <td>doubt</td>\n",
       "      <td>0</td>\n",
       "      <td>3.350000</td>\n",
       "    </tr>\n",
       "    <tr>\n",
       "      <td>1</td>\n",
       "      <td>1</td>\n",
       "      <td>sauce</td>\n",
       "      <td>loss</td>\n",
       "      <td>cross</td>\n",
       "      <td>accresce</td>\n",
       "      <td>3</td>\n",
       "      <td>4.836667</td>\n",
       "    </tr>\n",
       "    <tr>\n",
       "      <td>2</td>\n",
       "      <td>2</td>\n",
       "      <td>contract</td>\n",
       "      <td>impact</td>\n",
       "      <td>abstract</td>\n",
       "      <td>irked</td>\n",
       "      <td>3</td>\n",
       "      <td>5.280000</td>\n",
       "    </tr>\n",
       "    <tr>\n",
       "      <td>3</td>\n",
       "      <td>3</td>\n",
       "      <td>octave</td>\n",
       "      <td>attractive</td>\n",
       "      <td>proactive</td>\n",
       "      <td>interactive</td>\n",
       "      <td>0</td>\n",
       "      <td>5.083333</td>\n",
       "    </tr>\n",
       "    <tr>\n",
       "      <td>4</td>\n",
       "      <td>4</td>\n",
       "      <td>productivity</td>\n",
       "      <td>creativity</td>\n",
       "      <td>activator</td>\n",
       "      <td>proclivity</td>\n",
       "      <td>2</td>\n",
       "      <td>5.846667</td>\n",
       "    </tr>\n",
       "    <tr>\n",
       "      <td>5</td>\n",
       "      <td>5</td>\n",
       "      <td>sad</td>\n",
       "      <td>bad</td>\n",
       "      <td>aid</td>\n",
       "      <td>pad</td>\n",
       "      <td>2</td>\n",
       "      <td>3.130000</td>\n",
       "    </tr>\n",
       "    <tr>\n",
       "      <td>6</td>\n",
       "      <td>6</td>\n",
       "      <td>off-road</td>\n",
       "      <td>blade</td>\n",
       "      <td>trade</td>\n",
       "      <td>aid</td>\n",
       "      <td>0</td>\n",
       "      <td>5.033333</td>\n",
       "    </tr>\n",
       "    <tr>\n",
       "      <td>7</td>\n",
       "      <td>7</td>\n",
       "      <td>laughter</td>\n",
       "      <td>thereafter</td>\n",
       "      <td>efta</td>\n",
       "      <td>rafter</td>\n",
       "      <td>2</td>\n",
       "      <td>6.280000</td>\n",
       "    </tr>\n",
       "    <tr>\n",
       "      <td>8</td>\n",
       "      <td>8</td>\n",
       "      <td>train</td>\n",
       "      <td>plane</td>\n",
       "      <td>vein</td>\n",
       "      <td>agone</td>\n",
       "      <td>3</td>\n",
       "      <td>4.903333</td>\n",
       "    </tr>\n",
       "    <tr>\n",
       "      <td>9</td>\n",
       "      <td>9</td>\n",
       "      <td>sage</td>\n",
       "      <td>engage</td>\n",
       "      <td>gauge</td>\n",
       "      <td>edge</td>\n",
       "      <td>3</td>\n",
       "      <td>4.360000</td>\n",
       "    </tr>\n",
       "  </tbody>\n",
       "</table>\n",
       "</div>"
      ],
      "text/plain": [
       "   Unnamed: 0       choice0     choice1    choice2      choice3  answer  \\\n",
       "0           0         abate       route        out        doubt       0   \n",
       "1           1         sauce        loss      cross     accresce       3   \n",
       "2           2      contract      impact   abstract        irked       3   \n",
       "3           3        octave  attractive  proactive  interactive       0   \n",
       "4           4  productivity  creativity  activator   proclivity       2   \n",
       "5           5           sad         bad        aid          pad       2   \n",
       "6           6      off-road       blade      trade          aid       0   \n",
       "7           7      laughter  thereafter       efta       rafter       2   \n",
       "8           8         train       plane       vein        agone       3   \n",
       "9           9          sage      engage      gauge         edge       3   \n",
       "\n",
       "       diff  \n",
       "0  3.350000  \n",
       "1  4.836667  \n",
       "2  5.280000  \n",
       "3  5.083333  \n",
       "4  5.846667  \n",
       "5  3.130000  \n",
       "6  5.033333  \n",
       "7  6.280000  \n",
       "8  4.903333  \n",
       "9  4.360000  "
      ]
     },
     "execution_count": 8,
     "metadata": {},
     "output_type": "execute_result"
    }
   ],
   "source": [
    "df.head(10)"
   ]
  },
  {
   "cell_type": "code",
   "execution_count": null,
   "metadata": {},
   "outputs": [],
   "source": []
  }
 ],
 "metadata": {
  "kernelspec": {
   "display_name": "Python 3",
   "language": "python",
   "name": "python3"
  },
  "language_info": {
   "codemirror_mode": {
    "name": "ipython",
    "version": 3
   },
   "file_extension": ".py",
   "mimetype": "text/x-python",
   "name": "python",
   "nbconvert_exporter": "python",
   "pygments_lexer": "ipython3",
   "version": "3.7.4"
  }
 },
 "nbformat": 4,
 "nbformat_minor": 2
}
