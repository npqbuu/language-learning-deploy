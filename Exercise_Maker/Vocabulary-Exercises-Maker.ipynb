{
 "cells": [
  {
   "cell_type": "code",
   "execution_count": 1,
   "metadata": {},
   "outputs": [],
   "source": [
    "import urllib\n",
    "from bs4 import BeautifulSoup\n",
    "import re\n",
    "import requests\n",
    "import random"
   ]
  },
  {
   "cell_type": "code",
   "execution_count": 2,
   "metadata": {},
   "outputs": [],
   "source": [
    "headers = {\n",
    "    'x-rapidapi-host': \"twinword-word-association-quiz.p.rapidapi.com\",\n",
    "    'x-rapidapi-key': \"f9e88b40a3mshe89fe995823038bp1f4ab2jsn4f97b67d0ad0\"\n",
    "    }\n",
    "url = \"https://twinword-word-association-quiz.p.rapidapi.com/type1/\""
   ]
  },
  {
   "cell_type": "code",
   "execution_count": 3,
   "metadata": {},
   "outputs": [],
   "source": [
    "level = 10"
   ]
  },
  {
   "cell_type": "code",
   "execution_count": 4,
   "metadata": {},
   "outputs": [],
   "source": [
    "querystring = {\"area\":\"overall\",\"level\":str(level)}\n",
    "response = requests.request(\"GET\", url, headers=headers, params=querystring)"
   ]
  },
  {
   "cell_type": "code",
   "execution_count": 5,
   "metadata": {},
   "outputs": [],
   "source": [
    "data = response.json()"
   ]
  },
  {
   "cell_type": "code",
   "execution_count": 6,
   "metadata": {},
   "outputs": [
    {
     "data": {
      "text/plain": [
       "[{'quiz': ['hole', 'pierce', 'fist'],\n",
       "  'option': ['perforate', 'hoodwink'],\n",
       "  'correct': 1},\n",
       " {'quiz': ['soul', 'spirit', 'spiritual'],\n",
       "  'option': ['incorporeal', 'extrasensory'],\n",
       "  'correct': 1},\n",
       " {'quiz': ['shell', 'pearl', 'iridescent'],\n",
       "  'option': ['drachma', 'nacre'],\n",
       "  'correct': 2},\n",
       " {'quiz': ['power', 'abstract', 'air'],\n",
       "  'option': ['libertine', 'intangibility'],\n",
       "  'correct': 2},\n",
       " {'quiz': ['multiple', 'six', 'quadruple'],\n",
       "  'option': ['sextuple', 'transalpine'],\n",
       "  'correct': 1},\n",
       " {'quiz': ['fancy', 'affectation', 'exquisite'],\n",
       "  'option': ['rococo', 'sifter'],\n",
       "  'correct': 1},\n",
       " {'quiz': ['visitor', 'intruder', 'interloper'],\n",
       "  'option': ['trespasser', 'semipublic'],\n",
       "  'correct': 1},\n",
       " {'quiz': ['hunger', 'predatory', 'greedy'],\n",
       "  'option': ['elate', 'ravening'],\n",
       "  'correct': 2},\n",
       " {'quiz': ['solve', 'unravel', 'untangle'],\n",
       "  'option': ['unsparing', 'unscramble'],\n",
       "  'correct': 2},\n",
       " {'quiz': ['declaration', 'outcry', 'claim'],\n",
       "  'option': ['declamation', 'agonize'],\n",
       "  'correct': 1}]"
      ]
     },
     "execution_count": 6,
     "metadata": {},
     "output_type": "execute_result"
    }
   ],
   "source": [
    "data['quizlist']"
   ]
  },
  {
   "cell_type": "code",
   "execution_count": 8,
   "metadata": {},
   "outputs": [
    {
     "data": {
      "text/plain": [
       "['hole', 'pierce', 'fist']"
      ]
     },
     "execution_count": 8,
     "metadata": {},
     "output_type": "execute_result"
    }
   ],
   "source": [
    "data['quizlist'][0]['quiz']"
   ]
  },
  {
   "cell_type": "code",
   "execution_count": 20,
   "metadata": {},
   "outputs": [
    {
     "name": "stdout",
     "output_type": "stream",
     "text": [
      "Which word is most closely related to this set: hole, pierce, fist\n",
      "Which word is most closely related to this set: soul, spirit, spiritual\n",
      "Which word is most closely related to this set: shell, pearl, iridescent\n",
      "Which word is most closely related to this set: power, abstract, air\n",
      "Which word is most closely related to this set: multiple, six, quadruple\n",
      "Which word is most closely related to this set: fancy, affectation, exquisite\n",
      "Which word is most closely related to this set: visitor, intruder, interloper\n",
      "Which word is most closely related to this set: hunger, predatory, greedy\n",
      "Which word is most closely related to this set: solve, unravel, untangle\n",
      "Which word is most closely related to this set: declaration, outcry, claim\n"
     ]
    }
   ],
   "source": [
    "for question in data['quizlist']:\n",
    "    title = 'Which word is most closely related to this set: ' + ', '.join(map(str, question['quiz']))\n",
    "    diff = level\n",
    "    choices = question['option']\n",
    "    answer = question['correct'] - 1\n",
    "    category = 2\n",
    "    print(title)\n",
    "    "
   ]
  },
  {
   "cell_type": "code",
   "execution_count": null,
   "metadata": {},
   "outputs": [],
   "source": []
  }
 ],
 "metadata": {
  "kernelspec": {
   "display_name": "Python 3",
   "language": "python",
   "name": "python3"
  },
  "language_info": {
   "codemirror_mode": {
    "name": "ipython",
    "version": 3
   },
   "file_extension": ".py",
   "mimetype": "text/x-python",
   "name": "python",
   "nbconvert_exporter": "python",
   "pygments_lexer": "ipython3",
   "version": "3.7.6"
  }
 },
 "nbformat": 4,
 "nbformat_minor": 2
}
