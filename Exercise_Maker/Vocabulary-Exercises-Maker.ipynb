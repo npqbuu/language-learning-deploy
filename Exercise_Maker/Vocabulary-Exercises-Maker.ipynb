{
 "cells": [
  {
   "cell_type": "code",
   "execution_count": 1,
   "metadata": {},
   "outputs": [],
   "source": [
    "import urllib\n",
    "from bs4 import BeautifulSoup\n",
    "import re\n",
    "import requests\n",
    "import random"
   ]
  },
  {
   "cell_type": "code",
   "execution_count": 2,
   "metadata": {},
   "outputs": [],
   "source": [
    "headers = {\n",
    "    'x-rapidapi-host': \"twinword-word-association-quiz.p.rapidapi.com\",\n",
    "    'x-rapidapi-key': \"f9e88b40a3mshe89fe995823038bp1f4ab2jsn4f97b67d0ad0\"\n",
    "    }\n",
    "url = \"https://twinword-word-association-quiz.p.rapidapi.com/type1/\""
   ]
  },
  {
   "cell_type": "code",
   "execution_count": 3,
   "metadata": {},
   "outputs": [],
   "source": [
    "level = 10"
   ]
  },
  {
   "cell_type": "code",
   "execution_count": 4,
   "metadata": {},
   "outputs": [],
   "source": [
    "querystring = {\"area\":\"overall\",\"level\":str(level)}\n",
    "response = requests.request(\"GET\", url, headers=headers, params=querystring)"
   ]
  },
  {
   "cell_type": "code",
   "execution_count": 5,
   "metadata": {},
   "outputs": [],
   "source": [
    "data = response.json()"
   ]
  },
  {
   "cell_type": "code",
   "execution_count": 6,
   "metadata": {},
   "outputs": [
    {
     "data": {
      "text/plain": [
       "[{'quiz': ['thief', 'bandit', 'robber'],\n",
       "  'option': ['obeisance', 'brigand'],\n",
       "  'correct': 2},\n",
       " {'quiz': ['cruel', 'savage', 'aggressive'],\n",
       "  'option': ['abashed', 'truculent'],\n",
       "  'correct': 2},\n",
       " {'quiz': ['bewilder', 'perplex', 'stupefy'],\n",
       "  'option': ['discourtesy', 'dumbfound'],\n",
       "  'correct': 2},\n",
       " {'quiz': ['govern', 'aristocracy', 'monarchy'],\n",
       "  'option': ['blandness', 'plutocracy'],\n",
       "  'correct': 2},\n",
       " {'quiz': ['letter', 'collect', 'hobby'],\n",
       "  'option': ['philately', 'peregrination'],\n",
       "  'correct': 1},\n",
       " {'quiz': ['rebel', 'traitor', 'treason'],\n",
       "  'option': ['quisling', 'buskin'],\n",
       "  'correct': 1},\n",
       " {'quiz': ['weakness', 'lethargy', 'torpor'],\n",
       "  'option': ['repugnance', 'listlessness'],\n",
       "  'correct': 2},\n",
       " {'quiz': ['claim', 'argue', 'denial'],\n",
       "  'option': ['odorous', 'refutable'],\n",
       "  'correct': 2},\n",
       " {'quiz': ['deter', 'discourage', 'intimidation'],\n",
       "  'option': ['dishearten', 'gibbet'],\n",
       "  'correct': 1},\n",
       " {'quiz': ['game', 'competition', 'championship'],\n",
       "  'option': ['pentathlon', 'betide'],\n",
       "  'correct': 1}]"
      ]
     },
     "execution_count": 6,
     "metadata": {},
     "output_type": "execute_result"
    }
   ],
   "source": [
    "data['quizlist']"
   ]
  },
  {
   "cell_type": "code",
   "execution_count": 8,
   "metadata": {},
   "outputs": [
    {
     "data": {
      "text/plain": [
       "['thief', 'bandit', 'robber']"
      ]
     },
     "execution_count": 8,
     "metadata": {},
     "output_type": "execute_result"
    }
   ],
   "source": [
    "data['quizlist'][0]['quiz']"
   ]
  },
  {
   "cell_type": "code",
   "execution_count": null,
   "metadata": {},
   "outputs": [],
   "source": [
    "title = []\n",
    "\n",
    "for question in data['quizlist']:\n",
    "    "
   ]
  }
 ],
 "metadata": {
  "kernelspec": {
   "display_name": "Python 3",
   "language": "python",
   "name": "python3"
  },
  "language_info": {
   "codemirror_mode": {
    "name": "ipython",
    "version": 3
   },
   "file_extension": ".py",
   "mimetype": "text/x-python",
   "name": "python",
   "nbconvert_exporter": "python",
   "pygments_lexer": "ipython3",
   "version": "3.7.6"
  }
 },
 "nbformat": 4,
 "nbformat_minor": 2
}
